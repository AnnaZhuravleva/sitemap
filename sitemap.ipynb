{
 "cells": [
  {
   "cell_type": "code",
   "execution_count": 1,
   "metadata": {},
   "outputs": [],
   "source": [
    "import multiprocessing \n",
    "import threading\n",
    "\n",
    "import time\n",
    "import datetime\n",
    "import re\n",
    "import requests\n",
    "from bs4 import BeautifulSoup\n",
    "\n",
    "from time import sleep\n",
    "from bs4 import BeautifulSoup\n",
    "\n",
    "import graphviz\n",
    "from graphviz import Digraph"
   ]
  },
  {
   "cell_type": "code",
   "execution_count": 2,
   "metadata": {},
   "outputs": [],
   "source": [
    "class SiteMap:\n",
    "    \n",
    "    def __init__(self, url):\n",
    "        self._name = url[8:-4]\n",
    "        self.url = url\n",
    "        self.page = self.get_page(url)\n",
    "        self.sitemap = None\n",
    "        self.sitemap_hrefs_only = None\n",
    "        self.counter = 0\n",
    "        self.href_list = []\n",
    "        \n",
    "    def get_page(self, url):\n",
    "        response = requests.get(url)\n",
    "        return BeautifulSoup(response.content)\n",
    "        \n",
    "    def clean_list(self, array):\n",
    "        if not isinstance(array, list):\n",
    "            return array\n",
    "        for idx, elem in enumerate(array):\n",
    "            if isinstance(elem, list) and \\\n",
    "            (all(map(lambda x: x is None, elem)) or \\\n",
    "             len(elem) == 0):\n",
    "                array[idx] = None    \n",
    "        while None in array:\n",
    "            array.remove(None)\n",
    "        for idx, elem in enumerate(array):\n",
    "            if isinstance(elem, list):\n",
    "                array[idx] = self.clean_list(elem)\n",
    "        if len(array) == 1:\n",
    "            array = array[0]\n",
    "        return array\n",
    "\n",
    "    @staticmethod\n",
    "    def has_children(elem):\n",
    "        try:\n",
    "            return len(list(elem.children)) > 0\n",
    "        except AttributeError:\n",
    "            return False\n",
    "\n",
    "    @staticmethod    \n",
    "    def find_name(elem):\n",
    "        elems = [elem] + list(elem.descendants)\n",
    "        for elem in elems:\n",
    "            try:\n",
    "                name = elem.string.strip()\n",
    "                if len(name) > 0:\n",
    "                    return name\n",
    "            except AttributeError:\n",
    "                pass\n",
    "        return\n",
    "      \n",
    "    def get_href(self, elem):\n",
    "        try:\n",
    "            name = self.find_name(elem)\n",
    "            href = elem['href']\n",
    "            if not href.startswith('https'):\n",
    "                href = self.url + href\n",
    "            return (name, href) if len(name) > 0 else None\n",
    "        except:\n",
    "            return\n",
    "    \n",
    "    def _map(self, elem):\n",
    "        try:\n",
    "            if elem.name == 'script' or elem.name == 'style' :\n",
    "                return\n",
    "        except AttributeError:\n",
    "            pass\n",
    "        href = self.get_href(elem)\n",
    "        if href:\n",
    "            self.href_list.append(href[1])\n",
    "            return href\n",
    "        elif elem.string is not None and not self.has_children(elem):\n",
    "            name = elem.string.strip()\n",
    "            return name if len(name) > 0 else None\n",
    "        my_map = [self._map(el) for el in elem.children]\n",
    "        return my_map if len(my_map) > 0 else None\n",
    "      \n",
    "    def _map_short(self, elem):\n",
    "        href = self.get_href(elem)\n",
    "        if href:\n",
    "            self.href_list.append(href[1])\n",
    "            return href\n",
    "        elif self.has_children(elem):\n",
    "            my_map = [self._map(el) for el in elem.children]\n",
    "            return my_map if len(my_map) > 0 else None\n",
    "    \n",
    "    def _graph(self, graph, head, array):\n",
    "        graph.attr('node',fontcolor='black')\n",
    "        if isinstance(array, list) and len(array) > 1:\n",
    "            if isinstance(array[0], str):\n",
    "                head_2 = array[0]\n",
    "                array = array[1:]\n",
    "            else:\n",
    "                head_2 = f'_{self.counter}'\n",
    "                self.counter += 1\n",
    "                graph.attr('node', fontcolor='white')\n",
    "            if not head_2 == head:\n",
    "                graph.edge(head, head_2)\n",
    "            for elem in array:\n",
    "                get_graph(graph, head_2, elem)\n",
    "        elif isinstance(array, str):\n",
    "            array = array.replace('(', '')\n",
    "            array = array.replace(')', '')\n",
    "            graph.edge(head, array)\n",
    "        elif isinstance(array, tuple):\n",
    "            array = array[0]\n",
    "            array = array.replace(')', '')\n",
    "            array = array.replace('(', '')\n",
    "            graph.edge(head, array)\n",
    "            \n",
    "    def get_map(self):\n",
    "        my_map = self._map(self.page)\n",
    "        self.sitemap = self.clean_list(my_map)\n",
    "        return self.sitemap\n",
    "    \n",
    "    def get_map_hrefs_only(self):\n",
    "        my_map = self._map_short(self.page)\n",
    "        self.sitemap_hrefs_only  = self.clean_list(my_map)\n",
    "        return self.sitemap_hrefs_only\n",
    "    \n",
    "    def get_graph(self):\n",
    "        if self.sitemap_hrefs_only is None:\n",
    "            self.get_map_hrefs_only()\n",
    "        g = Graph('G', filename=f'{self._name}.gv')\n",
    "        g.attr(size='8') \n",
    "        self._graph(g, '', self.sitemap_hrefs_only)\n",
    "        g = g.unflatten(stagger=25)\n",
    "        g.view()\n",
    "        \n",
    "    def __call__(self):\n",
    "        self.get_graph()\n",
    "        \n",
    "    def url_number(self):\n",
    "        return len(self.href_list)\n",
    "        \n",
    "    "
   ]
  },
  {
   "cell_type": "code",
   "execution_count": 3,
   "metadata": {},
   "outputs": [
    {
     "name": "stdout",
     "output_type": "stream",
     "text": [
      "CPU times: user 1.04 s, sys: 23 ms, total: 1.06 s\n",
      "Wall time: 1.65 s\n"
     ]
    },
    {
     "data": {
      "text/plain": [
       "198"
      ]
     },
     "execution_count": 3,
     "metadata": {},
     "output_type": "execute_result"
    }
   ],
   "source": [
    "%%time\n",
    "sof = SiteMap(url = 'https://stackoverflow.com')\n",
    "sof.get_map_hrefs_only()\n",
    "sof.url_number()"
   ]
  },
  {
   "cell_type": "code",
   "execution_count": 4,
   "metadata": {},
   "outputs": [
    {
     "name": "stdout",
     "output_type": "stream",
     "text": [
      "CPU times: user 125 ms, sys: 8.34 ms, total: 133 ms\n",
      "Wall time: 567 ms\n"
     ]
    },
    {
     "data": {
      "text/plain": [
       "113"
      ]
     },
     "execution_count": 4,
     "metadata": {},
     "output_type": "execute_result"
    }
   ],
   "source": [
    "%%time\n",
    "ya = SiteMap(url='https://yandex.ru')\n",
    "ya.get_map_hrefs_only()\n",
    "ya.url_number()"
   ]
  },
  {
   "cell_type": "code",
   "execution_count": 5,
   "metadata": {},
   "outputs": [
    {
     "name": "stdout",
     "output_type": "stream",
     "text": [
      "CPU times: user 93.4 ms, sys: 7.45 ms, total: 101 ms\n",
      "Wall time: 445 ms\n"
     ]
    },
    {
     "data": {
      "text/plain": [
       "8"
      ]
     },
     "execution_count": 5,
     "metadata": {},
     "output_type": "execute_result"
    }
   ],
   "source": [
    "%%time\n",
    "vk = SiteMap(url = 'https://vk.com')\n",
    "vk.get_map_hrefs_only()\n",
    "vk.url_number()"
   ]
  },
  {
   "cell_type": "code",
   "execution_count": 6,
   "metadata": {},
   "outputs": [
    {
     "name": "stdout",
     "output_type": "stream",
     "text": [
      "CPU times: user 25.9 ms, sys: 6.04 ms, total: 31.9 ms\n",
      "Wall time: 345 ms\n"
     ]
    },
    {
     "data": {
      "text/plain": [
       "18"
      ]
     },
     "execution_count": 6,
     "metadata": {},
     "output_type": "execute_result"
    }
   ],
   "source": [
    "%%time\n",
    "google = SiteMap(url='http://google.com/')\n",
    "google.get_map_hrefs_only()\n",
    "google.url_number()"
   ]
  },
  {
   "cell_type": "code",
   "execution_count": 7,
   "metadata": {},
   "outputs": [
    {
     "name": "stdout",
     "output_type": "stream",
     "text": [
      "CPU times: user 543 ms, sys: 6.97 ms, total: 550 ms\n",
      "Wall time: 991 ms\n"
     ]
    },
    {
     "data": {
      "text/plain": [
       "37"
      ]
     },
     "execution_count": 7,
     "metadata": {},
     "output_type": "execute_result"
    }
   ],
   "source": [
    "%%time\n",
    "crawler = SiteMap(url='http://crawler-test.com/')\n",
    "crawler.get_map_hrefs_only()\n",
    "crawler.url_number()"
   ]
  },
  {
   "cell_type": "code",
   "execution_count": 8,
   "metadata": {},
   "outputs": [],
   "source": [
    "import json\n",
    "with open('stackoverflow.json', 'w', encoding='utf-8') as f:\n",
    "    json.dump(sof.sitemap_hrefs_only, f, ensure_ascii=False)\n",
    "with open('yandex.json', 'w', encoding='utf-8') as f:\n",
    "    json.dump(ya.sitemap_hrefs_only, f, ensure_ascii=False)\n",
    "with open('google.json', 'w', encoding='utf-8') as f:\n",
    "    json.dump(google.sitemap_hrefs_only, f, ensure_ascii=False)\n",
    "with open('vk.json', 'w', encoding='utf-8') as f:\n",
    "    json.dump(vk.sitemap_hrefs_only, f, ensure_ascii=False)\n",
    "with open('crawler.json', 'w', encoding='utf-8') as f:\n",
    "    json.dump(crawler.sitemap_hrefs_only, f, ensure_ascii=False)"
   ]
  },
  {
   "cell_type": "code",
   "execution_count": null,
   "metadata": {},
   "outputs": [],
   "source": []
  }
 ],
 "metadata": {
  "kernelspec": {
   "display_name": "Python 3",
   "language": "python",
   "name": "python3"
  },
  "language_info": {
   "codemirror_mode": {
    "name": "ipython",
    "version": 3
   },
   "file_extension": ".py",
   "mimetype": "text/x-python",
   "name": "python",
   "nbconvert_exporter": "python",
   "pygments_lexer": "ipython3",
   "version": "3.7.4"
  }
 },
 "nbformat": 4,
 "nbformat_minor": 2
}
