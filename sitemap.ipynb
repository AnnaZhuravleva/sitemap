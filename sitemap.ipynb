{
 "cells": [
  {
   "cell_type": "code",
   "execution_count": 1,
   "metadata": {},
   "outputs": [],
   "source": [
    "import time\n",
    "from time import sleep\n",
    "import threading\n",
    "import multiprocessing \n",
    "\n",
    "import re\n",
    "import requests\n",
    "from bs4 import BeautifulSoup\n",
    "\n",
    "import graphviz\n",
    "from graphviz import Digraph\n",
    "from collections import defaultdict\n",
    "import copy\n",
    "\n",
    "import tqdm\n",
    "from tqdm.notebook import trange, tqdm\n",
    "\n",
    "import warnings\n",
    "warnings.filterwarnings(\"ignore\")"
   ]
  },
  {
   "cell_type": "code",
   "execution_count": 2,
   "metadata": {},
   "outputs": [],
   "source": [
    "class SiteMap:\n",
    "    \n",
    "    def __init__(self, url):\n",
    "        self._name = self.get_sitename(url)\n",
    "        self.main_url = url\n",
    "        self.url = None\n",
    "        self.main_page = self.get_page(url)\n",
    "        self.sitemap = None\n",
    "        self.sitemap_hrefs_only = None\n",
    "        self.href_list = defaultdict(list)\n",
    "        self.counter = 0\n",
    "        self.maps = defaultdict(list)\n",
    "        self.edges = []\n",
    "        self.subgraphs = {}\n",
    "        \n",
    "    @staticmethod\n",
    "    def get_sitename(url):\n",
    "        name = re.sub('http.?://', '', url)\n",
    "        name = re.sub('\\.com', '', name)\n",
    "        name = re.sub('\\.ru', '', name)\n",
    "        name = re.sub('\\/', '', name)\n",
    "        return name\n",
    "        \n",
    "    def get_page(self, url):\n",
    "        '''\n",
    "        Загружает страницу по ссылке url \n",
    "        и возвращает дерево BeautifulSoup - \n",
    "        документ в виде вложенной структуры данных\n",
    "        '''\n",
    "        response = requests.get(url)\n",
    "        return BeautifulSoup(response.content)\n",
    "        \n",
    "    def clean_list(self, array):\n",
    "        '''\n",
    "        Избавляет массив от пустых элементов \n",
    "        - None или пустых листов - \n",
    "        и избавляет массив от излишней вложенности\n",
    "        '''\n",
    "        if not isinstance(array, list):\n",
    "            return array\n",
    "        for idx, elem in enumerate(array):\n",
    "            if isinstance(elem, list) and \\\n",
    "            (all(map(lambda x: x is None, elem)) or \\\n",
    "             len(elem) == 0):\n",
    "                array[idx] = None  \n",
    "        if not isinstance(array, tuple):\n",
    "            array = [item for item in array \\\n",
    "                     if item is not None and item != []]\n",
    "        for idx, elem in enumerate(array):\n",
    "            if isinstance(elem, list):\n",
    "                array[idx] = self.clean_list(elem)\n",
    "        if len(array) == 1:\n",
    "            array = array[0]\n",
    "        if not isinstance(array, tuple):\n",
    "            array = [item for item in array \\\n",
    "                     if item is not None and item != []]\n",
    "        return array\n",
    "\n",
    "    @staticmethod\n",
    "    def has_children(elem):\n",
    "        '''Проверяет, есть ли у элемента html-страницы \"потомки\"'''\n",
    "        try:\n",
    "            return len(list(elem.children)) > 0\n",
    "        except AttributeError:\n",
    "            return False\n",
    "\n",
    "    @staticmethod    \n",
    "    def find_name(elem):\n",
    "        '''\n",
    "        Проверяет, еcть ли среди потомков элемента \n",
    "        дочерний элемент NavigableString\n",
    "        '''\n",
    "        elems = [elem] + list(elem.descendants)\n",
    "        for elem in elems:\n",
    "            try:\n",
    "                name = elem.string.strip()\n",
    "                if len(name) > 0:\n",
    "                    return name\n",
    "            except AttributeError:\n",
    "                pass\n",
    "        return\n",
    "      \n",
    "    def get_href(self, elem):\n",
    "        '''\n",
    "        Проверяет, содержит ли элемент ссылку \n",
    "        и возвращает найденную ссылку и ее\n",
    "        текстовое представление\n",
    "        '''\n",
    "        try:\n",
    "            name = self.find_name(elem)\n",
    "            href = elem['href']\n",
    "            if not href.startswith('https'):\n",
    "                href = self.url + href\n",
    "            return (name, href) if len(name) > 0 else None\n",
    "        except:\n",
    "            return\n",
    "    \n",
    "    def _map(self, elem):\n",
    "        '''\n",
    "        Строит карту сайта, содержащую все текстовые элементы и ссылки\n",
    "        '''\n",
    "        try:\n",
    "            if elem.name == 'script' or elem.name == 'style' :\n",
    "                return\n",
    "        except AttributeError:\n",
    "            pass\n",
    "        href = self.get_href(elem)\n",
    "        if href:\n",
    "            self.href_list[self.url].append(href[1])\n",
    "            return href\n",
    "        elif elem.string is not None and not self.has_children(elem):\n",
    "            name = elem.string.strip()\n",
    "            return name if len(name) > 0 else None\n",
    "        my_map = [self._map(el) for el in elem.children]\n",
    "        return my_map if len(my_map) > 0 else None\n",
    "      \n",
    "    def _map_short(self, elem):\n",
    "        '''\n",
    "        Строит карту сайта, содержащую только ссылки \n",
    "        и их текстовые представления\n",
    "        '''\n",
    "        href = self.get_href(elem)\n",
    "        if href:\n",
    "            self.href_list[self.url].append(href[1])\n",
    "            return href\n",
    "        elif self.has_children(elem):\n",
    "            my_map = [self._map_short(el) for el in elem.children]\n",
    "            return my_map if len(my_map) > 0 else None\n",
    "        \n",
    "    def make_edge(self, node1, node2, graph):\n",
    "        '''Связывает два узла в графе'''\n",
    "        node1 = self.clean_string(node1)\n",
    "        node2 = self.clean_string(node2)\n",
    "        if not node1 == node2 and \\\n",
    "        tuple(set([node1, node2])) not in self.edges:\n",
    "            graph.edge(node1, node2)\n",
    "            self.edges.append(tuple(set([node1, node2])))\n",
    "            \n",
    "    def _subgraph(self, graph, array, head):\n",
    "        '''Строит под-граф'''\n",
    "        if head in self.subgraphs:\n",
    "            name = self.subgraphs[head]\n",
    "            label = None\n",
    "        else:\n",
    "            name = f'cluster_{self.counter}'\n",
    "            self.subgraphs[head] = name\n",
    "            self.counter += 1\n",
    "            label = head\n",
    "        if label is not None and label.startswith('head_'):\n",
    "            label = None\n",
    "        with graph.subgraph(name=name) as c:\n",
    "            c.attr(label=label)\n",
    "            self._graph(c, array, head)\n",
    "            \n",
    "    @staticmethod\n",
    "    def clean_string(line):\n",
    "        \"\"\" Очищает строку от ненужных символов \"\"\"\n",
    "        line = line.strip()\n",
    "        line = re.sub('[\\)\\(=]', '', line)\n",
    "        return line\n",
    "        \n",
    "    def _graph(self, graph, array, head):\n",
    "        \"\"\"Строит граф - карту сайта\"\"\"\n",
    "        \n",
    "        head = self.clean_string(head)\n",
    "        \n",
    "        if isinstance(array, list) and len(array) == 1:\n",
    "            self._graph(graph, array[0], head)\n",
    "                 \n",
    "        elif isinstance(array, list) and len(array) > 1:\n",
    "            if isinstance(array[0], str):\n",
    "                self.make_edge(head, array[0], graph)\n",
    "                head_2 = array[0]\n",
    "            elif isinstance(array[0], tuple):\n",
    "                node = array[0][0]\n",
    "                href = array[0][1]\n",
    "                self.make_edge(head, node, graph)\n",
    "                head_2 = node\n",
    "            elif isinstance(array[0], list):\n",
    "                # Создаем пустые узлы, чтобы объединить в одно \n",
    "                # под-дерево группу ссылок\n",
    "                head_2 = f'head_{self.counter}'\n",
    "                graph.attr('node', fillcolor = 'white', \\\n",
    "                           fontcolor='white')\n",
    "                self.make_edge(head, head_2, graph)\n",
    "                graph.attr('node', style = 'filled', \\\n",
    "                           fillcolor='lightblue2', \\\n",
    "                           fontcolor='black')\n",
    "                self.counter += 1\n",
    "            else:\n",
    "                head_2 = head\n",
    "            \n",
    "            for elem in array:\n",
    "                self._subgraph(graph, elem, head_2)\n",
    "                \n",
    "        elif isinstance(array, str):\n",
    "            self.make_edge(head, array, graph)\n",
    "                                      \n",
    "        elif isinstance(array, tuple):\n",
    "            \n",
    "            # Не будем записывать в граф сами ссылки, т.к. \n",
    "            # они очень длинные\n",
    "            \n",
    "            node = array[0]\n",
    "            href = array[1]\n",
    "            self.make_edge(head, node, graph)\n",
    "            \n",
    "            # Если у нас есть карта сайта для этой ссылки,\n",
    "            # создадим для нее под-граф\n",
    "            \n",
    "            if href in self.maps.keys() and \\\n",
    "            len(self.maps[href]) > 0 and \\\n",
    "            href != self.main_url and \\\n",
    "            node not in self.subgraphs.keys():\n",
    "                self._subgraph(graph, self.maps[href], node)\n",
    "            \n",
    "    def get_map(self, url=None):\n",
    "        \"\"\"\n",
    "        Метод вызова функции для создания \n",
    "        карты сайта с текстом и ссылками\n",
    "        \"\"\"\n",
    "\n",
    "        if url is None:\n",
    "            self.url = self.main_url\n",
    "            page = self.main_page\n",
    "        else:\n",
    "            self.url = url\n",
    "            page = self.get_page(url) \n",
    "            \n",
    "        my_map = self._map(page)\n",
    "        my_map = self.clean_list(my_map)\n",
    "        \n",
    "        self.maps[url] = my_map\n",
    "        if url is None:\n",
    "            self.sitemap = my_map\n",
    "            \n",
    "        return self.sitemap\n",
    "    \n",
    "    def get_map_hrefs_only(self, url=None):\n",
    "        \"\"\"\n",
    "        Метод вызова функции для создания \n",
    "        карты сайта только с ссылками\n",
    "        \"\"\"\n",
    "        if url is None:\n",
    "            self.url = self.main_url\n",
    "            page = self.main_page\n",
    "        else:\n",
    "            self.url = url\n",
    "            page = self.get_page(url) \n",
    "            \n",
    "        my_map = self._map_short(page)\n",
    "        my_map = self.clean_list(my_map)\n",
    "        \n",
    "        if url is None:\n",
    "            url = self.main_url\n",
    "            self.sitemap_hrefs_only = my_map\n",
    "        self.maps[url] = my_map\n",
    "        \n",
    "        return my_map\n",
    "    \n",
    "    def get_graph(self):\n",
    "        \"\"\"\n",
    "        Метод вызова функции для построения графа\n",
    "        Сохраняет граф в отдельном файле pdf\n",
    "        \"\"\"\n",
    "        if self.sitemap_hrefs_only is None:\n",
    "            self.get_map_hrefs_only()\n",
    "            \n",
    "        g = Digraph('G', filename=f'{self._name}.gv')\n",
    "        g.attr(size='8',  page=\"8.5,11\", ) \n",
    "        g.attr('node', style = 'filled', \\\n",
    "                fillcolor='lightblue2', fontcolor='black')\n",
    "        \n",
    "        self._graph(g, self.sitemap_hrefs_only, '')\n",
    "        g = g.unflatten(stagger=25)\n",
    "        g.view()\n",
    "        \n",
    "    def __call__(self):\n",
    "        \"\"\"При вызове экземпляра класса показывает граф сайта\"\"\"\n",
    "        self.get_graph()\n",
    "        \n",
    "    def url_number(self):\n",
    "        \"\"\"Показывает количество собранных ссылок\"\"\"\n",
    "        urls = [inner for item in self.href_list.values() \\\n",
    "                for inner in item]\n",
    "        urls = list(set(urls))\n",
    "        return len(urls)\n",
    "    \n",
    "    def make_map(self, url):\n",
    "        \"\"\"\n",
    "        Вспомогательная функция \n",
    "        Добавляет карту сайта в словарь\n",
    "        \"\"\"\n",
    "        self.maps[url] = self.get_map_hrefs_only(url)\n",
    "        \n",
    "    def make_proc(self, x):\n",
    "        \"\"\"Запускает многопоточност\"\"\"\n",
    "        pr1 = threading.Thread(target=self.make_map, args=(x,))\n",
    "        pr1.start()\n",
    "        pr1.join()\n",
    "        return pr1\n",
    "        \n",
    "    def recursion(self, depth=1):\n",
    "        \"\"\"\n",
    "        Идет вглубь сайта\n",
    "        depth - \"глубина\", на которую нужно опуститься\n",
    "        \"\"\"\n",
    "        def check_url(href):\n",
    "            var1 = self.main_url.strip('https://')\n",
    "            var2 = self.main_url.strip('http://')\n",
    "            return var1 in href or var2 in href\n",
    "        \n",
    "        queue = list()\n",
    "        \n",
    "        if len(self.href_list) == 0:\n",
    "            self.get_map_hrefs_only()\n",
    "        cntr = 0\n",
    "        for i in trange(depth):\n",
    "            keys = copy.copy(list(self.href_list.keys()))\n",
    "            if len(keys) == cntr:\n",
    "                break\n",
    "            cntr = len(keys)\n",
    "            for key in keys:\n",
    "                for url in self.href_list[key]:\n",
    "                    if check_url(url) and \\\n",
    "                    url not in self.maps.keys():\n",
    "                        try:\n",
    "                            pr = self.make_proc(url)\n",
    "                            queue.append(pr)\n",
    "                        except:\n",
    "                            pass\n",
    "                        \n",
    "            # Не будем создавать multiprocessing.Queue, т.к. хотим, чтобы \n",
    "            # все ссылки обрабатывались параллельно\n",
    "            # Вместо этого просто подождем, пока обработаются все ссылки\n",
    "            # \"одного уровня\"\n",
    "            \n",
    "            while len(queue) > 0:\n",
    "                queue = [el for el in queue if el.is_alive()]\n",
    "  "
   ]
  },
  {
   "cell_type": "markdown",
   "metadata": {},
   "source": [
    "**Построим карту начальной страницы для всех сайтов и посчитаем количество ссылок**"
   ]
  },
  {
   "cell_type": "code",
   "execution_count": 3,
   "metadata": {},
   "outputs": [
    {
     "name": "stdout",
     "output_type": "stream",
     "text": [
      "CPU times: user 108 ms, sys: 13.6 ms, total: 122 ms\n",
      "Wall time: 523 ms\n"
     ]
    },
    {
     "data": {
      "text/plain": [
       "8"
      ]
     },
     "execution_count": 3,
     "metadata": {},
     "output_type": "execute_result"
    }
   ],
   "source": [
    "%%time\n",
    "vk = SiteMap(url = 'https://vk.com')\n",
    "vk.get_map_hrefs_only()\n",
    "vk.url_number()"
   ]
  },
  {
   "cell_type": "code",
   "execution_count": 4,
   "metadata": {},
   "outputs": [],
   "source": [
    "vk.get_graph()"
   ]
  },
  {
   "cell_type": "code",
   "execution_count": 5,
   "metadata": {},
   "outputs": [
    {
     "data": {
      "text/plain": [
       "[[[[('Установить приложение', 'https://vk.me/?act=dl'),\n",
       "    [('Забыли пароль?', 'https://static.vk.com/restore'),\n",
       "     ('Зарегистрироваться', 'https://vk.com/join'),\n",
       "     ('Войти через Facebook', 'https://vk.com/login?act=fb_sign')]],\n",
       "   [[('Українська',\n",
       "      'https://vk.com/settings?act=change_regional&hash=c27b6a83443af39504&lang_id=1'),\n",
       "     ('English',\n",
       "      'https://vk.com/settings?act=change_regional&hash=c27b6a83443af39504&lang_id=3'),\n",
       "     ('all languages »', 'https://vk.com/settings?act=select_lang')],\n",
       "    ('Версия для компьютера',\n",
       "     'https://vk.com/fv?to=%2F%3F_fm%3D1%26_fm2%3D1')]]]]"
      ]
     },
     "execution_count": 5,
     "metadata": {},
     "output_type": "execute_result"
    }
   ],
   "source": [
    "vk.sitemap_hrefs_only"
   ]
  },
  {
   "cell_type": "code",
   "execution_count": 6,
   "metadata": {},
   "outputs": [
    {
     "data": {
      "text/plain": [
       "8"
      ]
     },
     "execution_count": 6,
     "metadata": {},
     "output_type": "execute_result"
    }
   ],
   "source": [
    "vk.url_number()"
   ]
  },
  {
   "cell_type": "code",
   "execution_count": 7,
   "metadata": {},
   "outputs": [
    {
     "name": "stdout",
     "output_type": "stream",
     "text": [
      "CPU times: user 1.59 s, sys: 53.7 ms, total: 1.64 s\n",
      "Wall time: 2.85 s\n"
     ]
    },
    {
     "data": {
      "text/plain": [
       "164"
      ]
     },
     "execution_count": 7,
     "metadata": {},
     "output_type": "execute_result"
    }
   ],
   "source": [
    "%%time\n",
    "sof = SiteMap(url = 'https://stackoverflow.com')\n",
    "sof.get_map_hrefs_only()\n",
    "sof.url_number()"
   ]
  },
  {
   "cell_type": "code",
   "execution_count": 8,
   "metadata": {},
   "outputs": [
    {
     "name": "stderr",
     "output_type": "stream",
     "text": [
      "Warning: node Music, port  Practice & Theory unrecognized\n"
     ]
    }
   ],
   "source": [
    "sof.get_graph()"
   ]
  },
  {
   "cell_type": "code",
   "execution_count": 9,
   "metadata": {},
   "outputs": [
    {
     "name": "stdout",
     "output_type": "stream",
     "text": [
      "CPU times: user 180 ms, sys: 18.9 ms, total: 199 ms\n",
      "Wall time: 592 ms\n"
     ]
    },
    {
     "data": {
      "text/plain": [
       "79"
      ]
     },
     "execution_count": 9,
     "metadata": {},
     "output_type": "execute_result"
    }
   ],
   "source": [
    "%%time\n",
    "ya = SiteMap(url='https://yandex.ru')\n",
    "ya.get_map_hrefs_only()\n",
    "ya.url_number()"
   ]
  },
  {
   "cell_type": "code",
   "execution_count": 10,
   "metadata": {},
   "outputs": [
    {
     "name": "stderr",
     "output_type": "stream",
     "text": [
      "Warning: node «Коммерсантъ», port  цены на бензин в России могут резко вырасти unrecognized\n",
      "Warning: node Последний богатырь, port  Корень зла unrecognized\n",
      "Warning: node Последний богатырь, port  Корень зла unrecognized\n",
      "Warning: node Семейка Крудс, port  Новоселье unrecognized\n",
      "Warning: node Последний богатырь, port  Корень зла unrecognized\n",
      "Warning: node Последний богатырь, port  Корень зла unrecognized\n",
      "Warning: node Последний богатырь, port  Корень зла unrecognized\n",
      "Warning: node Последний богатырь, port  Корень зла unrecognized\n"
     ]
    }
   ],
   "source": [
    "ya.get_graph()"
   ]
  },
  {
   "cell_type": "code",
   "execution_count": 11,
   "metadata": {},
   "outputs": [
    {
     "name": "stdout",
     "output_type": "stream",
     "text": [
      "CPU times: user 34.2 ms, sys: 7.95 ms, total: 42.1 ms\n",
      "Wall time: 432 ms\n"
     ]
    },
    {
     "data": {
      "text/plain": [
       "18"
      ]
     },
     "execution_count": 11,
     "metadata": {},
     "output_type": "execute_result"
    }
   ],
   "source": [
    "%%time\n",
    "google = SiteMap(url='http://google.com')\n",
    "google.get_map_hrefs_only()\n",
    "google.url_number()"
   ]
  },
  {
   "cell_type": "code",
   "execution_count": 12,
   "metadata": {},
   "outputs": [],
   "source": [
    "google.get_graph()"
   ]
  },
  {
   "cell_type": "code",
   "execution_count": 13,
   "metadata": {},
   "outputs": [
    {
     "name": "stdout",
     "output_type": "stream",
     "text": [
      "CPU times: user 626 ms, sys: 16.9 ms, total: 643 ms\n",
      "Wall time: 1.09 s\n"
     ]
    },
    {
     "data": {
      "text/plain": [
       "37"
      ]
     },
     "execution_count": 13,
     "metadata": {},
     "output_type": "execute_result"
    }
   ],
   "source": [
    "%%time\n",
    "crawler = SiteMap(url='http://crawler-test.com')\n",
    "crawler.get_map_hrefs_only()\n",
    "crawler.url_number()"
   ]
  },
  {
   "cell_type": "code",
   "execution_count": 14,
   "metadata": {},
   "outputs": [],
   "source": [
    "crawler.get_graph()"
   ]
  },
  {
   "cell_type": "markdown",
   "metadata": {},
   "source": [
    "**Пойдем \"вглубь\" всех сайтов**"
   ]
  },
  {
   "cell_type": "code",
   "execution_count": 15,
   "metadata": {},
   "outputs": [
    {
     "data": {
      "application/vnd.jupyter.widget-view+json": {
       "model_id": "bdec36892c964e8e8b6e370a58bf1008",
       "version_major": 2,
       "version_minor": 0
      },
      "text/plain": [
       "HBox(children=(FloatProgress(value=0.0, max=3.0), HTML(value='')))"
      ]
     },
     "metadata": {},
     "output_type": "display_data"
    },
    {
     "name": "stdout",
     "output_type": "stream",
     "text": [
      "\n",
      "CPU times: user 27.9 s, sys: 2.01 s, total: 29.9 s\n",
      "Wall time: 6min 15s\n"
     ]
    },
    {
     "data": {
      "text/plain": [
       "1240"
      ]
     },
     "execution_count": 15,
     "metadata": {},
     "output_type": "execute_result"
    }
   ],
   "source": [
    "%%time \n",
    "vk.recursion(depth = 3)\n",
    "vk.url_number()"
   ]
  },
  {
   "cell_type": "code",
   "execution_count": 16,
   "metadata": {},
   "outputs": [
    {
     "data": {
      "application/vnd.jupyter.widget-view+json": {
       "model_id": "391d401a503a4e7ab44a511a819882d5",
       "version_major": 2,
       "version_minor": 0
      },
      "text/plain": [
       "HBox(children=(FloatProgress(value=0.0, max=1.0), HTML(value='')))"
      ]
     },
     "metadata": {},
     "output_type": "display_data"
    },
    {
     "name": "stderr",
     "output_type": "stream",
     "text": [
      "Exception in thread Thread-225:\n",
      "Traceback (most recent call last):\n",
      "  File \"/Library/Frameworks/Python.framework/Versions/3.7/lib/python3.7/site-packages/requests/models.py\", line 379, in prepare_url\n",
      "    scheme, auth, host, port, path, query, fragment = parse_url(url)\n",
      "  File \"/Library/Frameworks/Python.framework/Versions/3.7/lib/python3.7/site-packages/urllib3/util/url.py\", line 401, in parse_url\n",
      "    return six.raise_from(LocationParseError(source_url), None)\n",
      "  File \"<string>\", line 3, in raise_from\n",
      "urllib3.exceptions.LocationParseError: Failed to parse: https://stackoverflow.comjavascript:void(0)\n",
      "\n",
      "During handling of the above exception, another exception occurred:\n",
      "\n",
      "Traceback (most recent call last):\n",
      "  File \"/Library/Frameworks/Python.framework/Versions/3.7/lib/python3.7/threading.py\", line 926, in _bootstrap_inner\n",
      "    self.run()\n",
      "  File \"/Library/Frameworks/Python.framework/Versions/3.7/lib/python3.7/threading.py\", line 870, in run\n",
      "    self._target(*self._args, **self._kwargs)\n",
      "  File \"<ipython-input-2-d3a6b0388dc3>\", line 296, in make_map\n",
      "    self.maps[url] = self.get_map_hrefs_only(url)\n",
      "  File \"<ipython-input-2-d3a6b0388dc3>\", line 250, in get_map_hrefs_only\n",
      "    page = self.get_page(url)\n",
      "  File \"<ipython-input-2-d3a6b0388dc3>\", line 30, in get_page\n",
      "    response = requests.get(url)\n",
      "  File \"/Library/Frameworks/Python.framework/Versions/3.7/lib/python3.7/site-packages/requests/api.py\", line 75, in get\n",
      "    return request('get', url, params=params, **kwargs)\n",
      "  File \"/Library/Frameworks/Python.framework/Versions/3.7/lib/python3.7/site-packages/requests/api.py\", line 60, in request\n",
      "    return session.request(method=method, url=url, **kwargs)\n",
      "  File \"/Library/Frameworks/Python.framework/Versions/3.7/lib/python3.7/site-packages/requests/sessions.py\", line 519, in request\n",
      "    prep = self.prepare_request(req)\n",
      "  File \"/Library/Frameworks/Python.framework/Versions/3.7/lib/python3.7/site-packages/requests/sessions.py\", line 462, in prepare_request\n",
      "    hooks=merge_hooks(request.hooks, self.hooks),\n",
      "  File \"/Library/Frameworks/Python.framework/Versions/3.7/lib/python3.7/site-packages/requests/models.py\", line 313, in prepare\n",
      "    self.prepare_url(url, params)\n",
      "  File \"/Library/Frameworks/Python.framework/Versions/3.7/lib/python3.7/site-packages/requests/models.py\", line 381, in prepare_url\n",
      "    raise InvalidURL(*e.args)\n",
      "requests.exceptions.InvalidURL: Failed to parse: https://stackoverflow.comjavascript:void(0)\n",
      "\n",
      "Exception in thread Thread-233:\n",
      "Traceback (most recent call last):\n",
      "  File \"/Library/Frameworks/Python.framework/Versions/3.7/lib/python3.7/site-packages/urllib3/connection.py\", line 157, in _new_conn\n",
      "    (self._dns_host, self.port), self.timeout, **extra_kw\n",
      "  File \"/Library/Frameworks/Python.framework/Versions/3.7/lib/python3.7/site-packages/urllib3/util/connection.py\", line 61, in create_connection\n",
      "    for res in socket.getaddrinfo(host, port, family, socket.SOCK_STREAM):\n",
      "  File \"/Library/Frameworks/Python.framework/Versions/3.7/lib/python3.7/socket.py\", line 748, in getaddrinfo\n",
      "    for res in _socket.getaddrinfo(host, port, family, type, proto, flags):\n",
      "socket.gaierror: [Errno 8] nodename nor servname provided, or not known\n",
      "\n",
      "During handling of the above exception, another exception occurred:\n",
      "\n",
      "Traceback (most recent call last):\n",
      "  File \"/Library/Frameworks/Python.framework/Versions/3.7/lib/python3.7/site-packages/urllib3/connectionpool.py\", line 672, in urlopen\n",
      "    chunked=chunked,\n",
      "  File \"/Library/Frameworks/Python.framework/Versions/3.7/lib/python3.7/site-packages/urllib3/connectionpool.py\", line 376, in _make_request\n",
      "    self._validate_conn(conn)\n",
      "  File \"/Library/Frameworks/Python.framework/Versions/3.7/lib/python3.7/site-packages/urllib3/connectionpool.py\", line 994, in _validate_conn\n",
      "    conn.connect()\n",
      "  File \"/Library/Frameworks/Python.framework/Versions/3.7/lib/python3.7/site-packages/urllib3/connection.py\", line 334, in connect\n",
      "    conn = self._new_conn()\n",
      "  File \"/Library/Frameworks/Python.framework/Versions/3.7/lib/python3.7/site-packages/urllib3/connection.py\", line 169, in _new_conn\n",
      "    self, \"Failed to establish a new connection: %s\" % e\n",
      "urllib3.exceptions.NewConnectionError: <urllib3.connection.VerifiedHTTPSConnection object at 0x10914fd50>: Failed to establish a new connection: [Errno 8] nodename nor servname provided, or not known\n",
      "\n",
      "During handling of the above exception, another exception occurred:\n",
      "\n",
      "Traceback (most recent call last):\n",
      "  File \"/Library/Frameworks/Python.framework/Versions/3.7/lib/python3.7/site-packages/requests/adapters.py\", line 449, in send\n",
      "    timeout=timeout\n",
      "  File \"/Library/Frameworks/Python.framework/Versions/3.7/lib/python3.7/site-packages/urllib3/connectionpool.py\", line 720, in urlopen\n",
      "    method, url, error=e, _pool=self, _stacktrace=sys.exc_info()[2]\n",
      "  File \"/Library/Frameworks/Python.framework/Versions/3.7/lib/python3.7/site-packages/urllib3/util/retry.py\", line 436, in increment\n",
      "    raise MaxRetryError(_pool, url, error or ResponseError(cause))\n",
      "urllib3.exceptions.MaxRetryError: HTTPSConnectionPool(host='stackoverflow.comquestions', port=443): Max retries exceeded with url: /tagged/javascript (Caused by NewConnectionError('<urllib3.connection.VerifiedHTTPSConnection object at 0x10914fd50>: Failed to establish a new connection: [Errno 8] nodename nor servname provided, or not known'))\n",
      "\n",
      "During handling of the above exception, another exception occurred:\n",
      "\n",
      "Traceback (most recent call last):\n",
      "  File \"/Library/Frameworks/Python.framework/Versions/3.7/lib/python3.7/threading.py\", line 926, in _bootstrap_inner\n",
      "    self.run()\n",
      "  File \"/Library/Frameworks/Python.framework/Versions/3.7/lib/python3.7/threading.py\", line 870, in run\n",
      "    self._target(*self._args, **self._kwargs)\n",
      "  File \"<ipython-input-2-d3a6b0388dc3>\", line 296, in make_map\n",
      "    self.maps[url] = self.get_map_hrefs_only(url)\n",
      "  File \"<ipython-input-2-d3a6b0388dc3>\", line 250, in get_map_hrefs_only\n",
      "    page = self.get_page(url)\n",
      "  File \"<ipython-input-2-d3a6b0388dc3>\", line 30, in get_page\n",
      "    response = requests.get(url)\n",
      "  File \"/Library/Frameworks/Python.framework/Versions/3.7/lib/python3.7/site-packages/requests/api.py\", line 75, in get\n",
      "    return request('get', url, params=params, **kwargs)\n",
      "  File \"/Library/Frameworks/Python.framework/Versions/3.7/lib/python3.7/site-packages/requests/api.py\", line 60, in request\n",
      "    return session.request(method=method, url=url, **kwargs)\n",
      "  File \"/Library/Frameworks/Python.framework/Versions/3.7/lib/python3.7/site-packages/requests/sessions.py\", line 533, in request\n",
      "    resp = self.send(prep, **send_kwargs)\n",
      "  File \"/Library/Frameworks/Python.framework/Versions/3.7/lib/python3.7/site-packages/requests/sessions.py\", line 646, in send\n",
      "    r = adapter.send(request, **kwargs)\n",
      "  File \"/Library/Frameworks/Python.framework/Versions/3.7/lib/python3.7/site-packages/requests/adapters.py\", line 516, in send\n",
      "    raise ConnectionError(e, request=request)\n",
      "requests.exceptions.ConnectionError: HTTPSConnectionPool(host='stackoverflow.comquestions', port=443): Max retries exceeded with url: /tagged/javascript (Caused by NewConnectionError('<urllib3.connection.VerifiedHTTPSConnection object at 0x10914fd50>: Failed to establish a new connection: [Errno 8] nodename nor servname provided, or not known'))\n",
      "\n",
      "Exception in thread Thread-234:\n",
      "Traceback (most recent call last):\n",
      "  File \"/Library/Frameworks/Python.framework/Versions/3.7/lib/python3.7/site-packages/urllib3/connection.py\", line 157, in _new_conn\n",
      "    (self._dns_host, self.port), self.timeout, **extra_kw\n",
      "  File \"/Library/Frameworks/Python.framework/Versions/3.7/lib/python3.7/site-packages/urllib3/util/connection.py\", line 61, in create_connection\n",
      "    for res in socket.getaddrinfo(host, port, family, socket.SOCK_STREAM):\n",
      "  File \"/Library/Frameworks/Python.framework/Versions/3.7/lib/python3.7/socket.py\", line 748, in getaddrinfo\n",
      "    for res in _socket.getaddrinfo(host, port, family, type, proto, flags):\n",
      "socket.gaierror: [Errno 8] nodename nor servname provided, or not known\n",
      "\n",
      "During handling of the above exception, another exception occurred:\n",
      "\n",
      "Traceback (most recent call last):\n",
      "  File \"/Library/Frameworks/Python.framework/Versions/3.7/lib/python3.7/site-packages/urllib3/connectionpool.py\", line 672, in urlopen\n",
      "    chunked=chunked,\n",
      "  File \"/Library/Frameworks/Python.framework/Versions/3.7/lib/python3.7/site-packages/urllib3/connectionpool.py\", line 376, in _make_request\n",
      "    self._validate_conn(conn)\n",
      "  File \"/Library/Frameworks/Python.framework/Versions/3.7/lib/python3.7/site-packages/urllib3/connectionpool.py\", line 994, in _validate_conn\n",
      "    conn.connect()\n",
      "  File \"/Library/Frameworks/Python.framework/Versions/3.7/lib/python3.7/site-packages/urllib3/connection.py\", line 334, in connect\n",
      "    conn = self._new_conn()\n",
      "  File \"/Library/Frameworks/Python.framework/Versions/3.7/lib/python3.7/site-packages/urllib3/connection.py\", line 169, in _new_conn\n",
      "    self, \"Failed to establish a new connection: %s\" % e\n",
      "urllib3.exceptions.NewConnectionError: <urllib3.connection.VerifiedHTTPSConnection object at 0x10914fdd0>: Failed to establish a new connection: [Errno 8] nodename nor servname provided, or not known\n",
      "\n",
      "During handling of the above exception, another exception occurred:\n",
      "\n",
      "Traceback (most recent call last):\n",
      "  File \"/Library/Frameworks/Python.framework/Versions/3.7/lib/python3.7/site-packages/requests/adapters.py\", line 449, in send\n",
      "    timeout=timeout\n",
      "  File \"/Library/Frameworks/Python.framework/Versions/3.7/lib/python3.7/site-packages/urllib3/connectionpool.py\", line 720, in urlopen\n",
      "    method, url, error=e, _pool=self, _stacktrace=sys.exc_info()[2]\n",
      "  File \"/Library/Frameworks/Python.framework/Versions/3.7/lib/python3.7/site-packages/urllib3/util/retry.py\", line 436, in increment\n",
      "    raise MaxRetryError(_pool, url, error or ResponseError(cause))\n",
      "urllib3.exceptions.MaxRetryError: HTTPSConnectionPool(host='stackoverflow.comquestions', port=443): Max retries exceeded with url: /tagged/react (Caused by NewConnectionError('<urllib3.connection.VerifiedHTTPSConnection object at 0x10914fdd0>: Failed to establish a new connection: [Errno 8] nodename nor servname provided, or not known'))\n",
      "\n",
      "During handling of the above exception, another exception occurred:\n",
      "\n",
      "Traceback (most recent call last):\n",
      "  File \"/Library/Frameworks/Python.framework/Versions/3.7/lib/python3.7/threading.py\", line 926, in _bootstrap_inner\n",
      "    self.run()\n",
      "  File \"/Library/Frameworks/Python.framework/Versions/3.7/lib/python3.7/threading.py\", line 870, in run\n",
      "    self._target(*self._args, **self._kwargs)\n",
      "  File \"<ipython-input-2-d3a6b0388dc3>\", line 296, in make_map\n",
      "    self.maps[url] = self.get_map_hrefs_only(url)\n",
      "  File \"<ipython-input-2-d3a6b0388dc3>\", line 250, in get_map_hrefs_only\n",
      "    page = self.get_page(url)\n",
      "  File \"<ipython-input-2-d3a6b0388dc3>\", line 30, in get_page\n",
      "    response = requests.get(url)\n",
      "  File \"/Library/Frameworks/Python.framework/Versions/3.7/lib/python3.7/site-packages/requests/api.py\", line 75, in get\n",
      "    return request('get', url, params=params, **kwargs)\n",
      "  File \"/Library/Frameworks/Python.framework/Versions/3.7/lib/python3.7/site-packages/requests/api.py\", line 60, in request\n",
      "    return session.request(method=method, url=url, **kwargs)\n",
      "  File \"/Library/Frameworks/Python.framework/Versions/3.7/lib/python3.7/site-packages/requests/sessions.py\", line 533, in request\n",
      "    resp = self.send(prep, **send_kwargs)\n",
      "  File \"/Library/Frameworks/Python.framework/Versions/3.7/lib/python3.7/site-packages/requests/sessions.py\", line 646, in send\n",
      "    r = adapter.send(request, **kwargs)\n",
      "  File \"/Library/Frameworks/Python.framework/Versions/3.7/lib/python3.7/site-packages/requests/adapters.py\", line 516, in send\n",
      "    raise ConnectionError(e, request=request)\n",
      "requests.exceptions.ConnectionError: HTTPSConnectionPool(host='stackoverflow.comquestions', port=443): Max retries exceeded with url: /tagged/react (Caused by NewConnectionError('<urllib3.connection.VerifiedHTTPSConnection object at 0x10914fdd0>: Failed to establish a new connection: [Errno 8] nodename nor servname provided, or not known'))\n",
      "\n"
     ]
    },
    {
     "name": "stderr",
     "output_type": "stream",
     "text": [
      "Exception in thread Thread-237:\n",
      "Traceback (most recent call last):\n",
      "  File \"/Library/Frameworks/Python.framework/Versions/3.7/lib/python3.7/site-packages/urllib3/connection.py\", line 157, in _new_conn\n",
      "    (self._dns_host, self.port), self.timeout, **extra_kw\n",
      "  File \"/Library/Frameworks/Python.framework/Versions/3.7/lib/python3.7/site-packages/urllib3/util/connection.py\", line 61, in create_connection\n",
      "    for res in socket.getaddrinfo(host, port, family, socket.SOCK_STREAM):\n",
      "  File \"/Library/Frameworks/Python.framework/Versions/3.7/lib/python3.7/socket.py\", line 748, in getaddrinfo\n",
      "    for res in _socket.getaddrinfo(host, port, family, type, proto, flags):\n",
      "socket.gaierror: [Errno 8] nodename nor servname provided, or not known\n",
      "\n",
      "During handling of the above exception, another exception occurred:\n",
      "\n",
      "Traceback (most recent call last):\n",
      "  File \"/Library/Frameworks/Python.framework/Versions/3.7/lib/python3.7/site-packages/urllib3/connectionpool.py\", line 672, in urlopen\n",
      "    chunked=chunked,\n",
      "  File \"/Library/Frameworks/Python.framework/Versions/3.7/lib/python3.7/site-packages/urllib3/connectionpool.py\", line 376, in _make_request\n",
      "    self._validate_conn(conn)\n",
      "  File \"/Library/Frameworks/Python.framework/Versions/3.7/lib/python3.7/site-packages/urllib3/connectionpool.py\", line 994, in _validate_conn\n",
      "    conn.connect()\n",
      "  File \"/Library/Frameworks/Python.framework/Versions/3.7/lib/python3.7/site-packages/urllib3/connection.py\", line 334, in connect\n",
      "    conn = self._new_conn()\n",
      "  File \"/Library/Frameworks/Python.framework/Versions/3.7/lib/python3.7/site-packages/urllib3/connection.py\", line 169, in _new_conn\n",
      "    self, \"Failed to establish a new connection: %s\" % e\n",
      "urllib3.exceptions.NewConnectionError: <urllib3.connection.VerifiedHTTPSConnection object at 0x108ad3990>: Failed to establish a new connection: [Errno 8] nodename nor servname provided, or not known\n",
      "\n",
      "During handling of the above exception, another exception occurred:\n",
      "\n",
      "Traceback (most recent call last):\n",
      "  File \"/Library/Frameworks/Python.framework/Versions/3.7/lib/python3.7/site-packages/requests/adapters.py\", line 449, in send\n",
      "    timeout=timeout\n",
      "  File \"/Library/Frameworks/Python.framework/Versions/3.7/lib/python3.7/site-packages/urllib3/connectionpool.py\", line 720, in urlopen\n",
      "    method, url, error=e, _pool=self, _stacktrace=sys.exc_info()[2]\n",
      "  File \"/Library/Frameworks/Python.framework/Versions/3.7/lib/python3.7/site-packages/urllib3/util/retry.py\", line 436, in increment\n",
      "    raise MaxRetryError(_pool, url, error or ResponseError(cause))\n",
      "urllib3.exceptions.MaxRetryError: HTTPSConnectionPool(host='stackoverflow.comusers', port=443): Max retries exceeded with url: /story/join (Caused by NewConnectionError('<urllib3.connection.VerifiedHTTPSConnection object at 0x108ad3990>: Failed to establish a new connection: [Errno 8] nodename nor servname provided, or not known'))\n",
      "\n",
      "During handling of the above exception, another exception occurred:\n",
      "\n",
      "Traceback (most recent call last):\n",
      "  File \"/Library/Frameworks/Python.framework/Versions/3.7/lib/python3.7/threading.py\", line 926, in _bootstrap_inner\n",
      "    self.run()\n",
      "  File \"/Library/Frameworks/Python.framework/Versions/3.7/lib/python3.7/threading.py\", line 870, in run\n",
      "    self._target(*self._args, **self._kwargs)\n",
      "  File \"<ipython-input-2-d3a6b0388dc3>\", line 296, in make_map\n",
      "    self.maps[url] = self.get_map_hrefs_only(url)\n",
      "  File \"<ipython-input-2-d3a6b0388dc3>\", line 250, in get_map_hrefs_only\n",
      "    page = self.get_page(url)\n",
      "  File \"<ipython-input-2-d3a6b0388dc3>\", line 30, in get_page\n",
      "    response = requests.get(url)\n",
      "  File \"/Library/Frameworks/Python.framework/Versions/3.7/lib/python3.7/site-packages/requests/api.py\", line 75, in get\n",
      "    return request('get', url, params=params, **kwargs)\n",
      "  File \"/Library/Frameworks/Python.framework/Versions/3.7/lib/python3.7/site-packages/requests/api.py\", line 60, in request\n",
      "    return session.request(method=method, url=url, **kwargs)\n",
      "  File \"/Library/Frameworks/Python.framework/Versions/3.7/lib/python3.7/site-packages/requests/sessions.py\", line 533, in request\n",
      "    resp = self.send(prep, **send_kwargs)\n",
      "  File \"/Library/Frameworks/Python.framework/Versions/3.7/lib/python3.7/site-packages/requests/sessions.py\", line 646, in send\n",
      "    r = adapter.send(request, **kwargs)\n",
      "  File \"/Library/Frameworks/Python.framework/Versions/3.7/lib/python3.7/site-packages/requests/adapters.py\", line 516, in send\n",
      "    raise ConnectionError(e, request=request)\n",
      "requests.exceptions.ConnectionError: HTTPSConnectionPool(host='stackoverflow.comusers', port=443): Max retries exceeded with url: /story/join (Caused by NewConnectionError('<urllib3.connection.VerifiedHTTPSConnection object at 0x108ad3990>: Failed to establish a new connection: [Errno 8] nodename nor servname provided, or not known'))\n",
      "\n"
     ]
    },
    {
     "name": "stdout",
     "output_type": "stream",
     "text": [
      "\n",
      "CPU times: user 1min 6s, sys: 634 ms, total: 1min 7s\n",
      "Wall time: 1min 36s\n"
     ]
    }
   ],
   "source": [
    "%%time \n",
    "sof.recursion(1)  # Слишком глубоко все же не пойдем"
   ]
  },
  {
   "cell_type": "code",
   "execution_count": 17,
   "metadata": {},
   "outputs": [
    {
     "data": {
      "text/plain": [
       "3374"
      ]
     },
     "execution_count": 17,
     "metadata": {},
     "output_type": "execute_result"
    }
   ],
   "source": [
    "sof.url_number()"
   ]
  },
  {
   "cell_type": "code",
   "execution_count": 18,
   "metadata": {},
   "outputs": [
    {
     "data": {
      "application/vnd.jupyter.widget-view+json": {
       "model_id": "75ca1361cd5f485baf223b275bd368fb",
       "version_major": 2,
       "version_minor": 0
      },
      "text/plain": [
       "HBox(children=(FloatProgress(value=0.0, max=1.0), HTML(value='')))"
      ]
     },
     "metadata": {},
     "output_type": "display_data"
    },
    {
     "name": "stderr",
     "output_type": "stream",
     "text": [
      "Exception in thread Thread-256:\n",
      "Traceback (most recent call last):\n",
      "  File \"/Library/Frameworks/Python.framework/Versions/3.7/lib/python3.7/site-packages/urllib3/connection.py\", line 157, in _new_conn\n",
      "    (self._dns_host, self.port), self.timeout, **extra_kw\n",
      "  File \"/Library/Frameworks/Python.framework/Versions/3.7/lib/python3.7/site-packages/urllib3/util/connection.py\", line 61, in create_connection\n",
      "    for res in socket.getaddrinfo(host, port, family, socket.SOCK_STREAM):\n",
      "  File \"/Library/Frameworks/Python.framework/Versions/3.7/lib/python3.7/socket.py\", line 748, in getaddrinfo\n",
      "    for res in _socket.getaddrinfo(host, port, family, type, proto, flags):\n",
      "socket.gaierror: [Errno 8] nodename nor servname provided, or not known\n",
      "\n",
      "During handling of the above exception, another exception occurred:\n",
      "\n",
      "Traceback (most recent call last):\n",
      "  File \"/Library/Frameworks/Python.framework/Versions/3.7/lib/python3.7/site-packages/urllib3/connectionpool.py\", line 672, in urlopen\n",
      "    chunked=chunked,\n",
      "  File \"/Library/Frameworks/Python.framework/Versions/3.7/lib/python3.7/site-packages/urllib3/connectionpool.py\", line 387, in _make_request\n",
      "    conn.request(method, url, **httplib_request_kw)\n",
      "  File \"/Library/Frameworks/Python.framework/Versions/3.7/lib/python3.7/http/client.py\", line 1244, in request\n",
      "    self._send_request(method, url, body, headers, encode_chunked)\n",
      "  File \"/Library/Frameworks/Python.framework/Versions/3.7/lib/python3.7/http/client.py\", line 1290, in _send_request\n",
      "    self.endheaders(body, encode_chunked=encode_chunked)\n",
      "  File \"/Library/Frameworks/Python.framework/Versions/3.7/lib/python3.7/http/client.py\", line 1239, in endheaders\n",
      "    self._send_output(message_body, encode_chunked=encode_chunked)\n",
      "  File \"/Library/Frameworks/Python.framework/Versions/3.7/lib/python3.7/http/client.py\", line 1026, in _send_output\n",
      "    self.send(msg)\n",
      "  File \"/Library/Frameworks/Python.framework/Versions/3.7/lib/python3.7/http/client.py\", line 966, in send\n",
      "    self.connect()\n",
      "  File \"/Library/Frameworks/Python.framework/Versions/3.7/lib/python3.7/site-packages/urllib3/connection.py\", line 184, in connect\n",
      "    conn = self._new_conn()\n",
      "  File \"/Library/Frameworks/Python.framework/Versions/3.7/lib/python3.7/site-packages/urllib3/connection.py\", line 169, in _new_conn\n",
      "    self, \"Failed to establish a new connection: %s\" % e\n",
      "urllib3.exceptions.NewConnectionError: <urllib3.connection.HTTPConnection object at 0x108336290>: Failed to establish a new connection: [Errno 8] nodename nor servname provided, or not known\n",
      "\n",
      "During handling of the above exception, another exception occurred:\n",
      "\n",
      "Traceback (most recent call last):\n",
      "  File \"/Library/Frameworks/Python.framework/Versions/3.7/lib/python3.7/site-packages/requests/adapters.py\", line 449, in send\n",
      "    timeout=timeout\n",
      "  File \"/Library/Frameworks/Python.framework/Versions/3.7/lib/python3.7/site-packages/urllib3/connectionpool.py\", line 720, in urlopen\n",
      "    method, url, error=e, _pool=self, _stacktrace=sys.exc_info()[2]\n",
      "  File \"/Library/Frameworks/Python.framework/Versions/3.7/lib/python3.7/site-packages/urllib3/util/retry.py\", line 436, in increment\n",
      "    raise MaxRetryError(_pool, url, error or ResponseError(cause))\n",
      "urllib3.exceptions.MaxRetryError: HTTPConnectionPool(host='google.comhttp', port=80): Max retries exceeded with url: //www.google.ru/imghp?hl=ru&tab=wi (Caused by NewConnectionError('<urllib3.connection.HTTPConnection object at 0x108336290>: Failed to establish a new connection: [Errno 8] nodename nor servname provided, or not known'))\n",
      "\n",
      "During handling of the above exception, another exception occurred:\n",
      "\n",
      "Traceback (most recent call last):\n",
      "  File \"/Library/Frameworks/Python.framework/Versions/3.7/lib/python3.7/threading.py\", line 926, in _bootstrap_inner\n",
      "    self.run()\n",
      "  File \"/Library/Frameworks/Python.framework/Versions/3.7/lib/python3.7/threading.py\", line 870, in run\n",
      "    self._target(*self._args, **self._kwargs)\n",
      "  File \"<ipython-input-2-d3a6b0388dc3>\", line 296, in make_map\n",
      "    self.maps[url] = self.get_map_hrefs_only(url)\n",
      "  File \"<ipython-input-2-d3a6b0388dc3>\", line 250, in get_map_hrefs_only\n",
      "    page = self.get_page(url)\n",
      "  File \"<ipython-input-2-d3a6b0388dc3>\", line 30, in get_page\n",
      "    response = requests.get(url)\n",
      "  File \"/Library/Frameworks/Python.framework/Versions/3.7/lib/python3.7/site-packages/requests/api.py\", line 75, in get\n",
      "    return request('get', url, params=params, **kwargs)\n",
      "  File \"/Library/Frameworks/Python.framework/Versions/3.7/lib/python3.7/site-packages/requests/api.py\", line 60, in request\n",
      "    return session.request(method=method, url=url, **kwargs)\n",
      "  File \"/Library/Frameworks/Python.framework/Versions/3.7/lib/python3.7/site-packages/requests/sessions.py\", line 533, in request\n",
      "    resp = self.send(prep, **send_kwargs)\n",
      "  File \"/Library/Frameworks/Python.framework/Versions/3.7/lib/python3.7/site-packages/requests/sessions.py\", line 646, in send\n",
      "    r = adapter.send(request, **kwargs)\n",
      "  File \"/Library/Frameworks/Python.framework/Versions/3.7/lib/python3.7/site-packages/requests/adapters.py\", line 516, in send\n",
      "    raise ConnectionError(e, request=request)\n",
      "requests.exceptions.ConnectionError: HTTPConnectionPool(host='google.comhttp', port=80): Max retries exceeded with url: //www.google.ru/imghp?hl=ru&tab=wi (Caused by NewConnectionError('<urllib3.connection.HTTPConnection object at 0x108336290>: Failed to establish a new connection: [Errno 8] nodename nor servname provided, or not known'))\n",
      "\n",
      "Exception in thread Thread-257:\n",
      "Traceback (most recent call last):\n",
      "  File \"/Library/Frameworks/Python.framework/Versions/3.7/lib/python3.7/site-packages/urllib3/connection.py\", line 157, in _new_conn\n",
      "    (self._dns_host, self.port), self.timeout, **extra_kw\n",
      "  File \"/Library/Frameworks/Python.framework/Versions/3.7/lib/python3.7/site-packages/urllib3/util/connection.py\", line 61, in create_connection\n",
      "    for res in socket.getaddrinfo(host, port, family, socket.SOCK_STREAM):\n",
      "  File \"/Library/Frameworks/Python.framework/Versions/3.7/lib/python3.7/socket.py\", line 748, in getaddrinfo\n",
      "    for res in _socket.getaddrinfo(host, port, family, type, proto, flags):\n",
      "socket.gaierror: [Errno 8] nodename nor servname provided, or not known\n",
      "\n",
      "During handling of the above exception, another exception occurred:\n",
      "\n",
      "Traceback (most recent call last):\n",
      "  File \"/Library/Frameworks/Python.framework/Versions/3.7/lib/python3.7/site-packages/urllib3/connectionpool.py\", line 672, in urlopen\n",
      "    chunked=chunked,\n",
      "  File \"/Library/Frameworks/Python.framework/Versions/3.7/lib/python3.7/site-packages/urllib3/connectionpool.py\", line 387, in _make_request\n",
      "    conn.request(method, url, **httplib_request_kw)\n",
      "  File \"/Library/Frameworks/Python.framework/Versions/3.7/lib/python3.7/http/client.py\", line 1244, in request\n",
      "    self._send_request(method, url, body, headers, encode_chunked)\n",
      "  File \"/Library/Frameworks/Python.framework/Versions/3.7/lib/python3.7/http/client.py\", line 1290, in _send_request\n",
      "    self.endheaders(body, encode_chunked=encode_chunked)\n",
      "  File \"/Library/Frameworks/Python.framework/Versions/3.7/lib/python3.7/http/client.py\", line 1239, in endheaders\n",
      "    self._send_output(message_body, encode_chunked=encode_chunked)\n",
      "  File \"/Library/Frameworks/Python.framework/Versions/3.7/lib/python3.7/http/client.py\", line 1026, in _send_output\n",
      "    self.send(msg)\n",
      "  File \"/Library/Frameworks/Python.framework/Versions/3.7/lib/python3.7/http/client.py\", line 966, in send\n",
      "    self.connect()\n",
      "  File \"/Library/Frameworks/Python.framework/Versions/3.7/lib/python3.7/site-packages/urllib3/connection.py\", line 184, in connect\n",
      "    conn = self._new_conn()\n",
      "  File \"/Library/Frameworks/Python.framework/Versions/3.7/lib/python3.7/site-packages/urllib3/connection.py\", line 169, in _new_conn\n",
      "    self, \"Failed to establish a new connection: %s\" % e\n",
      "urllib3.exceptions.NewConnectionError: <urllib3.connection.HTTPConnection object at 0x108268e10>: Failed to establish a new connection: [Errno 8] nodename nor servname provided, or not known\n",
      "\n",
      "During handling of the above exception, another exception occurred:\n",
      "\n",
      "Traceback (most recent call last):\n",
      "  File \"/Library/Frameworks/Python.framework/Versions/3.7/lib/python3.7/site-packages/requests/adapters.py\", line 449, in send\n",
      "    timeout=timeout\n",
      "  File \"/Library/Frameworks/Python.framework/Versions/3.7/lib/python3.7/site-packages/urllib3/connectionpool.py\", line 720, in urlopen\n",
      "    method, url, error=e, _pool=self, _stacktrace=sys.exc_info()[2]\n",
      "  File \"/Library/Frameworks/Python.framework/Versions/3.7/lib/python3.7/site-packages/urllib3/util/retry.py\", line 436, in increment\n",
      "    raise MaxRetryError(_pool, url, error or ResponseError(cause))\n",
      "urllib3.exceptions.MaxRetryError: HTTPConnectionPool(host='google.comhttp', port=80): Max retries exceeded with url: //maps.google.ru/maps?hl=ru&tab=wl (Caused by NewConnectionError('<urllib3.connection.HTTPConnection object at 0x108268e10>: Failed to establish a new connection: [Errno 8] nodename nor servname provided, or not known'))\n",
      "\n",
      "During handling of the above exception, another exception occurred:\n",
      "\n",
      "Traceback (most recent call last):\n",
      "  File \"/Library/Frameworks/Python.framework/Versions/3.7/lib/python3.7/threading.py\", line 926, in _bootstrap_inner\n",
      "    self.run()\n",
      "  File \"/Library/Frameworks/Python.framework/Versions/3.7/lib/python3.7/threading.py\", line 870, in run\n",
      "    self._target(*self._args, **self._kwargs)\n",
      "  File \"<ipython-input-2-d3a6b0388dc3>\", line 296, in make_map\n",
      "    self.maps[url] = self.get_map_hrefs_only(url)\n",
      "  File \"<ipython-input-2-d3a6b0388dc3>\", line 250, in get_map_hrefs_only\n",
      "    page = self.get_page(url)\n",
      "  File \"<ipython-input-2-d3a6b0388dc3>\", line 30, in get_page\n",
      "    response = requests.get(url)\n",
      "  File \"/Library/Frameworks/Python.framework/Versions/3.7/lib/python3.7/site-packages/requests/api.py\", line 75, in get\n",
      "    return request('get', url, params=params, **kwargs)\n",
      "  File \"/Library/Frameworks/Python.framework/Versions/3.7/lib/python3.7/site-packages/requests/api.py\", line 60, in request\n",
      "    return session.request(method=method, url=url, **kwargs)\n",
      "  File \"/Library/Frameworks/Python.framework/Versions/3.7/lib/python3.7/site-packages/requests/sessions.py\", line 533, in request\n",
      "    resp = self.send(prep, **send_kwargs)\n",
      "  File \"/Library/Frameworks/Python.framework/Versions/3.7/lib/python3.7/site-packages/requests/sessions.py\", line 646, in send\n",
      "    r = adapter.send(request, **kwargs)\n",
      "  File \"/Library/Frameworks/Python.framework/Versions/3.7/lib/python3.7/site-packages/requests/adapters.py\", line 516, in send\n",
      "    raise ConnectionError(e, request=request)\n",
      "requests.exceptions.ConnectionError: HTTPConnectionPool(host='google.comhttp', port=80): Max retries exceeded with url: //maps.google.ru/maps?hl=ru&tab=wl (Caused by NewConnectionError('<urllib3.connection.HTTPConnection object at 0x108268e10>: Failed to establish a new connection: [Errno 8] nodename nor servname provided, or not known'))\n",
      "\n"
     ]
    },
    {
     "name": "stderr",
     "output_type": "stream",
     "text": [
      "Exception in thread Thread-259:\n",
      "Traceback (most recent call last):\n",
      "  File \"/Library/Frameworks/Python.framework/Versions/3.7/lib/python3.7/site-packages/urllib3/connection.py\", line 157, in _new_conn\n",
      "    (self._dns_host, self.port), self.timeout, **extra_kw\n",
      "  File \"/Library/Frameworks/Python.framework/Versions/3.7/lib/python3.7/site-packages/urllib3/util/connection.py\", line 61, in create_connection\n",
      "    for res in socket.getaddrinfo(host, port, family, socket.SOCK_STREAM):\n",
      "  File \"/Library/Frameworks/Python.framework/Versions/3.7/lib/python3.7/socket.py\", line 748, in getaddrinfo\n",
      "    for res in _socket.getaddrinfo(host, port, family, type, proto, flags):\n",
      "socket.gaierror: [Errno 8] nodename nor servname provided, or not known\n",
      "\n",
      "During handling of the above exception, another exception occurred:\n",
      "\n",
      "Traceback (most recent call last):\n",
      "  File \"/Library/Frameworks/Python.framework/Versions/3.7/lib/python3.7/site-packages/urllib3/connectionpool.py\", line 672, in urlopen\n",
      "    chunked=chunked,\n",
      "  File \"/Library/Frameworks/Python.framework/Versions/3.7/lib/python3.7/site-packages/urllib3/connectionpool.py\", line 387, in _make_request\n",
      "    conn.request(method, url, **httplib_request_kw)\n",
      "  File \"/Library/Frameworks/Python.framework/Versions/3.7/lib/python3.7/http/client.py\", line 1244, in request\n",
      "    self._send_request(method, url, body, headers, encode_chunked)\n",
      "  File \"/Library/Frameworks/Python.framework/Versions/3.7/lib/python3.7/http/client.py\", line 1290, in _send_request\n",
      "    self.endheaders(body, encode_chunked=encode_chunked)\n",
      "  File \"/Library/Frameworks/Python.framework/Versions/3.7/lib/python3.7/http/client.py\", line 1239, in endheaders\n",
      "    self._send_output(message_body, encode_chunked=encode_chunked)\n",
      "  File \"/Library/Frameworks/Python.framework/Versions/3.7/lib/python3.7/http/client.py\", line 1026, in _send_output\n",
      "    self.send(msg)\n",
      "  File \"/Library/Frameworks/Python.framework/Versions/3.7/lib/python3.7/http/client.py\", line 966, in send\n",
      "    self.connect()\n",
      "  File \"/Library/Frameworks/Python.framework/Versions/3.7/lib/python3.7/site-packages/urllib3/connection.py\", line 184, in connect\n",
      "    conn = self._new_conn()\n",
      "  File \"/Library/Frameworks/Python.framework/Versions/3.7/lib/python3.7/site-packages/urllib3/connection.py\", line 169, in _new_conn\n",
      "    self, \"Failed to establish a new connection: %s\" % e\n",
      "urllib3.exceptions.NewConnectionError: <urllib3.connection.HTTPConnection object at 0x108f23c50>: Failed to establish a new connection: [Errno 8] nodename nor servname provided, or not known\n",
      "\n",
      "During handling of the above exception, another exception occurred:\n",
      "\n",
      "Traceback (most recent call last):\n",
      "  File \"/Library/Frameworks/Python.framework/Versions/3.7/lib/python3.7/site-packages/requests/adapters.py\", line 449, in send\n",
      "    timeout=timeout\n",
      "  File \"/Library/Frameworks/Python.framework/Versions/3.7/lib/python3.7/site-packages/urllib3/connectionpool.py\", line 720, in urlopen\n",
      "    method, url, error=e, _pool=self, _stacktrace=sys.exc_info()[2]\n",
      "  File \"/Library/Frameworks/Python.framework/Versions/3.7/lib/python3.7/site-packages/urllib3/util/retry.py\", line 436, in increment\n",
      "    raise MaxRetryError(_pool, url, error or ResponseError(cause))\n",
      "urllib3.exceptions.MaxRetryError: HTTPConnectionPool(host='google.comhttp', port=80): Max retries exceeded with url: //www.youtube.com/?gl=RU&tab=w1 (Caused by NewConnectionError('<urllib3.connection.HTTPConnection object at 0x108f23c50>: Failed to establish a new connection: [Errno 8] nodename nor servname provided, or not known'))\n",
      "\n",
      "During handling of the above exception, another exception occurred:\n",
      "\n",
      "Traceback (most recent call last):\n",
      "  File \"/Library/Frameworks/Python.framework/Versions/3.7/lib/python3.7/threading.py\", line 926, in _bootstrap_inner\n",
      "    self.run()\n",
      "  File \"/Library/Frameworks/Python.framework/Versions/3.7/lib/python3.7/threading.py\", line 870, in run\n",
      "    self._target(*self._args, **self._kwargs)\n",
      "  File \"<ipython-input-2-d3a6b0388dc3>\", line 296, in make_map\n",
      "    self.maps[url] = self.get_map_hrefs_only(url)\n",
      "  File \"<ipython-input-2-d3a6b0388dc3>\", line 250, in get_map_hrefs_only\n",
      "    page = self.get_page(url)\n",
      "  File \"<ipython-input-2-d3a6b0388dc3>\", line 30, in get_page\n",
      "    response = requests.get(url)\n",
      "  File \"/Library/Frameworks/Python.framework/Versions/3.7/lib/python3.7/site-packages/requests/api.py\", line 75, in get\n",
      "    return request('get', url, params=params, **kwargs)\n",
      "  File \"/Library/Frameworks/Python.framework/Versions/3.7/lib/python3.7/site-packages/requests/api.py\", line 60, in request\n",
      "    return session.request(method=method, url=url, **kwargs)\n",
      "  File \"/Library/Frameworks/Python.framework/Versions/3.7/lib/python3.7/site-packages/requests/sessions.py\", line 533, in request\n",
      "    resp = self.send(prep, **send_kwargs)\n",
      "  File \"/Library/Frameworks/Python.framework/Versions/3.7/lib/python3.7/site-packages/requests/sessions.py\", line 646, in send\n",
      "    r = adapter.send(request, **kwargs)\n",
      "  File \"/Library/Frameworks/Python.framework/Versions/3.7/lib/python3.7/site-packages/requests/adapters.py\", line 516, in send\n",
      "    raise ConnectionError(e, request=request)\n",
      "requests.exceptions.ConnectionError: HTTPConnectionPool(host='google.comhttp', port=80): Max retries exceeded with url: //www.youtube.com/?gl=RU&tab=w1 (Caused by NewConnectionError('<urllib3.connection.HTTPConnection object at 0x108f23c50>: Failed to establish a new connection: [Errno 8] nodename nor servname provided, or not known'))\n",
      "\n",
      "Exception in thread Thread-263:\n",
      "Traceback (most recent call last):\n",
      "  File \"/Library/Frameworks/Python.framework/Versions/3.7/lib/python3.7/site-packages/urllib3/connection.py\", line 157, in _new_conn\n",
      "    (self._dns_host, self.port), self.timeout, **extra_kw\n",
      "  File \"/Library/Frameworks/Python.framework/Versions/3.7/lib/python3.7/site-packages/urllib3/util/connection.py\", line 61, in create_connection\n",
      "    for res in socket.getaddrinfo(host, port, family, socket.SOCK_STREAM):\n",
      "  File \"/Library/Frameworks/Python.framework/Versions/3.7/lib/python3.7/socket.py\", line 748, in getaddrinfo\n",
      "    for res in _socket.getaddrinfo(host, port, family, type, proto, flags):\n",
      "socket.gaierror: [Errno 8] nodename nor servname provided, or not known\n",
      "\n",
      "During handling of the above exception, another exception occurred:\n",
      "\n",
      "Traceback (most recent call last):\n",
      "  File \"/Library/Frameworks/Python.framework/Versions/3.7/lib/python3.7/site-packages/urllib3/connectionpool.py\", line 672, in urlopen\n",
      "    chunked=chunked,\n",
      "  File \"/Library/Frameworks/Python.framework/Versions/3.7/lib/python3.7/site-packages/urllib3/connectionpool.py\", line 387, in _make_request\n",
      "    conn.request(method, url, **httplib_request_kw)\n",
      "  File \"/Library/Frameworks/Python.framework/Versions/3.7/lib/python3.7/http/client.py\", line 1244, in request\n",
      "    self._send_request(method, url, body, headers, encode_chunked)\n",
      "  File \"/Library/Frameworks/Python.framework/Versions/3.7/lib/python3.7/http/client.py\", line 1290, in _send_request\n",
      "    self.endheaders(body, encode_chunked=encode_chunked)\n",
      "  File \"/Library/Frameworks/Python.framework/Versions/3.7/lib/python3.7/http/client.py\", line 1239, in endheaders\n",
      "    self._send_output(message_body, encode_chunked=encode_chunked)\n",
      "  File \"/Library/Frameworks/Python.framework/Versions/3.7/lib/python3.7/http/client.py\", line 1026, in _send_output\n",
      "    self.send(msg)\n",
      "  File \"/Library/Frameworks/Python.framework/Versions/3.7/lib/python3.7/http/client.py\", line 966, in send\n",
      "    self.connect()\n",
      "  File \"/Library/Frameworks/Python.framework/Versions/3.7/lib/python3.7/site-packages/urllib3/connection.py\", line 184, in connect\n",
      "    conn = self._new_conn()\n",
      "  File \"/Library/Frameworks/Python.framework/Versions/3.7/lib/python3.7/site-packages/urllib3/connection.py\", line 169, in _new_conn\n",
      "    self, \"Failed to establish a new connection: %s\" % e\n",
      "urllib3.exceptions.NewConnectionError: <urllib3.connection.HTTPConnection object at 0x10935c410>: Failed to establish a new connection: [Errno 8] nodename nor servname provided, or not known\n",
      "\n",
      "During handling of the above exception, another exception occurred:\n",
      "\n",
      "Traceback (most recent call last):\n",
      "  File \"/Library/Frameworks/Python.framework/Versions/3.7/lib/python3.7/site-packages/requests/adapters.py\", line 449, in send\n",
      "    timeout=timeout\n",
      "  File \"/Library/Frameworks/Python.framework/Versions/3.7/lib/python3.7/site-packages/urllib3/connectionpool.py\", line 720, in urlopen\n",
      "    method, url, error=e, _pool=self, _stacktrace=sys.exc_info()[2]\n",
      "  File \"/Library/Frameworks/Python.framework/Versions/3.7/lib/python3.7/site-packages/urllib3/util/retry.py\", line 436, in increment\n",
      "    raise MaxRetryError(_pool, url, error or ResponseError(cause))\n",
      "urllib3.exceptions.MaxRetryError: HTTPConnectionPool(host='google.comhttp', port=80): Max retries exceeded with url: //www.google.ru/history/optout?hl=ru (Caused by NewConnectionError('<urllib3.connection.HTTPConnection object at 0x10935c410>: Failed to establish a new connection: [Errno 8] nodename nor servname provided, or not known'))\n",
      "\n",
      "During handling of the above exception, another exception occurred:\n",
      "\n",
      "Traceback (most recent call last):\n",
      "  File \"/Library/Frameworks/Python.framework/Versions/3.7/lib/python3.7/threading.py\", line 926, in _bootstrap_inner\n",
      "    self.run()\n",
      "  File \"/Library/Frameworks/Python.framework/Versions/3.7/lib/python3.7/threading.py\", line 870, in run\n",
      "    self._target(*self._args, **self._kwargs)\n",
      "  File \"<ipython-input-2-d3a6b0388dc3>\", line 296, in make_map\n",
      "    self.maps[url] = self.get_map_hrefs_only(url)\n",
      "  File \"<ipython-input-2-d3a6b0388dc3>\", line 250, in get_map_hrefs_only\n",
      "    page = self.get_page(url)\n",
      "  File \"<ipython-input-2-d3a6b0388dc3>\", line 30, in get_page\n",
      "    response = requests.get(url)\n",
      "  File \"/Library/Frameworks/Python.framework/Versions/3.7/lib/python3.7/site-packages/requests/api.py\", line 75, in get\n",
      "    return request('get', url, params=params, **kwargs)\n",
      "  File \"/Library/Frameworks/Python.framework/Versions/3.7/lib/python3.7/site-packages/requests/api.py\", line 60, in request\n",
      "    return session.request(method=method, url=url, **kwargs)\n",
      "  File \"/Library/Frameworks/Python.framework/Versions/3.7/lib/python3.7/site-packages/requests/sessions.py\", line 533, in request\n",
      "    resp = self.send(prep, **send_kwargs)\n",
      "  File \"/Library/Frameworks/Python.framework/Versions/3.7/lib/python3.7/site-packages/requests/sessions.py\", line 646, in send\n",
      "    r = adapter.send(request, **kwargs)\n",
      "  File \"/Library/Frameworks/Python.framework/Versions/3.7/lib/python3.7/site-packages/requests/adapters.py\", line 516, in send\n",
      "    raise ConnectionError(e, request=request)\n",
      "requests.exceptions.ConnectionError: HTTPConnectionPool(host='google.comhttp', port=80): Max retries exceeded with url: //www.google.ru/history/optout?hl=ru (Caused by NewConnectionError('<urllib3.connection.HTTPConnection object at 0x10935c410>: Failed to establish a new connection: [Errno 8] nodename nor servname provided, or not known'))\n",
      "\n"
     ]
    },
    {
     "name": "stderr",
     "output_type": "stream",
     "text": [
      "Exception in thread Thread-268:\n",
      "Traceback (most recent call last):\n",
      "  File \"/Library/Frameworks/Python.framework/Versions/3.7/lib/python3.7/site-packages/urllib3/connection.py\", line 157, in _new_conn\n",
      "    (self._dns_host, self.port), self.timeout, **extra_kw\n",
      "  File \"/Library/Frameworks/Python.framework/Versions/3.7/lib/python3.7/site-packages/urllib3/util/connection.py\", line 61, in create_connection\n",
      "    for res in socket.getaddrinfo(host, port, family, socket.SOCK_STREAM):\n",
      "  File \"/Library/Frameworks/Python.framework/Versions/3.7/lib/python3.7/socket.py\", line 748, in getaddrinfo\n",
      "    for res in _socket.getaddrinfo(host, port, family, type, proto, flags):\n",
      "socket.gaierror: [Errno 8] nodename nor servname provided, or not known\n",
      "\n",
      "During handling of the above exception, another exception occurred:\n",
      "\n",
      "Traceback (most recent call last):\n",
      "  File \"/Library/Frameworks/Python.framework/Versions/3.7/lib/python3.7/site-packages/urllib3/connectionpool.py\", line 672, in urlopen\n",
      "    chunked=chunked,\n",
      "  File \"/Library/Frameworks/Python.framework/Versions/3.7/lib/python3.7/site-packages/urllib3/connectionpool.py\", line 387, in _make_request\n",
      "    conn.request(method, url, **httplib_request_kw)\n",
      "  File \"/Library/Frameworks/Python.framework/Versions/3.7/lib/python3.7/http/client.py\", line 1244, in request\n",
      "    self._send_request(method, url, body, headers, encode_chunked)\n",
      "  File \"/Library/Frameworks/Python.framework/Versions/3.7/lib/python3.7/http/client.py\", line 1290, in _send_request\n",
      "    self.endheaders(body, encode_chunked=encode_chunked)\n",
      "  File \"/Library/Frameworks/Python.framework/Versions/3.7/lib/python3.7/http/client.py\", line 1239, in endheaders\n",
      "    self._send_output(message_body, encode_chunked=encode_chunked)\n",
      "  File \"/Library/Frameworks/Python.framework/Versions/3.7/lib/python3.7/http/client.py\", line 1026, in _send_output\n",
      "    self.send(msg)\n",
      "  File \"/Library/Frameworks/Python.framework/Versions/3.7/lib/python3.7/http/client.py\", line 966, in send\n",
      "    self.connect()\n",
      "  File \"/Library/Frameworks/Python.framework/Versions/3.7/lib/python3.7/site-packages/urllib3/connection.py\", line 184, in connect\n",
      "    conn = self._new_conn()\n",
      "  File \"/Library/Frameworks/Python.framework/Versions/3.7/lib/python3.7/site-packages/urllib3/connection.py\", line 169, in _new_conn\n",
      "    self, \"Failed to establish a new connection: %s\" % e\n",
      "urllib3.exceptions.NewConnectionError: <urllib3.connection.HTTPConnection object at 0x10906c950>: Failed to establish a new connection: [Errno 8] nodename nor servname provided, or not known\n",
      "\n",
      "During handling of the above exception, another exception occurred:\n",
      "\n",
      "Traceback (most recent call last):\n",
      "  File \"/Library/Frameworks/Python.framework/Versions/3.7/lib/python3.7/site-packages/requests/adapters.py\", line 449, in send\n",
      "    timeout=timeout\n",
      "  File \"/Library/Frameworks/Python.framework/Versions/3.7/lib/python3.7/site-packages/urllib3/connectionpool.py\", line 720, in urlopen\n",
      "    method, url, error=e, _pool=self, _stacktrace=sys.exc_info()[2]\n",
      "  File \"/Library/Frameworks/Python.framework/Versions/3.7/lib/python3.7/site-packages/urllib3/util/retry.py\", line 436, in increment\n",
      "    raise MaxRetryError(_pool, url, error or ResponseError(cause))\n",
      "urllib3.exceptions.MaxRetryError: HTTPConnectionPool(host='google.comhttp', port=80): Max retries exceeded with url: //www.google.ru/intl/ru/services/ (Caused by NewConnectionError('<urllib3.connection.HTTPConnection object at 0x10906c950>: Failed to establish a new connection: [Errno 8] nodename nor servname provided, or not known'))\n",
      "\n",
      "During handling of the above exception, another exception occurred:\n",
      "\n",
      "Traceback (most recent call last):\n",
      "  File \"/Library/Frameworks/Python.framework/Versions/3.7/lib/python3.7/threading.py\", line 926, in _bootstrap_inner\n",
      "    self.run()\n",
      "  File \"/Library/Frameworks/Python.framework/Versions/3.7/lib/python3.7/threading.py\", line 870, in run\n",
      "    self._target(*self._args, **self._kwargs)\n",
      "  File \"<ipython-input-2-d3a6b0388dc3>\", line 296, in make_map\n",
      "    self.maps[url] = self.get_map_hrefs_only(url)\n",
      "  File \"<ipython-input-2-d3a6b0388dc3>\", line 250, in get_map_hrefs_only\n",
      "    page = self.get_page(url)\n",
      "  File \"<ipython-input-2-d3a6b0388dc3>\", line 30, in get_page\n",
      "    response = requests.get(url)\n",
      "  File \"/Library/Frameworks/Python.framework/Versions/3.7/lib/python3.7/site-packages/requests/api.py\", line 75, in get\n",
      "    return request('get', url, params=params, **kwargs)\n",
      "  File \"/Library/Frameworks/Python.framework/Versions/3.7/lib/python3.7/site-packages/requests/api.py\", line 60, in request\n",
      "    return session.request(method=method, url=url, **kwargs)\n",
      "  File \"/Library/Frameworks/Python.framework/Versions/3.7/lib/python3.7/site-packages/requests/sessions.py\", line 533, in request\n",
      "    resp = self.send(prep, **send_kwargs)\n",
      "  File \"/Library/Frameworks/Python.framework/Versions/3.7/lib/python3.7/site-packages/requests/sessions.py\", line 646, in send\n",
      "    r = adapter.send(request, **kwargs)\n",
      "  File \"/Library/Frameworks/Python.framework/Versions/3.7/lib/python3.7/site-packages/requests/adapters.py\", line 516, in send\n",
      "    raise ConnectionError(e, request=request)\n",
      "requests.exceptions.ConnectionError: HTTPConnectionPool(host='google.comhttp', port=80): Max retries exceeded with url: //www.google.ru/intl/ru/services/ (Caused by NewConnectionError('<urllib3.connection.HTTPConnection object at 0x10906c950>: Failed to establish a new connection: [Errno 8] nodename nor servname provided, or not known'))\n",
      "\n",
      "Exception in thread Thread-270:\n",
      "Traceback (most recent call last):\n",
      "  File \"/Library/Frameworks/Python.framework/Versions/3.7/lib/python3.7/site-packages/urllib3/connection.py\", line 157, in _new_conn\n",
      "    (self._dns_host, self.port), self.timeout, **extra_kw\n",
      "  File \"/Library/Frameworks/Python.framework/Versions/3.7/lib/python3.7/site-packages/urllib3/util/connection.py\", line 61, in create_connection\n",
      "    for res in socket.getaddrinfo(host, port, family, socket.SOCK_STREAM):\n",
      "  File \"/Library/Frameworks/Python.framework/Versions/3.7/lib/python3.7/socket.py\", line 748, in getaddrinfo\n",
      "    for res in _socket.getaddrinfo(host, port, family, type, proto, flags):\n",
      "socket.gaierror: [Errno 8] nodename nor servname provided, or not known\n",
      "\n",
      "During handling of the above exception, another exception occurred:\n",
      "\n",
      "Traceback (most recent call last):\n",
      "  File \"/Library/Frameworks/Python.framework/Versions/3.7/lib/python3.7/site-packages/urllib3/connectionpool.py\", line 672, in urlopen\n",
      "    chunked=chunked,\n",
      "  File \"/Library/Frameworks/Python.framework/Versions/3.7/lib/python3.7/site-packages/urllib3/connectionpool.py\", line 387, in _make_request\n",
      "    conn.request(method, url, **httplib_request_kw)\n",
      "  File \"/Library/Frameworks/Python.framework/Versions/3.7/lib/python3.7/http/client.py\", line 1244, in request\n",
      "    self._send_request(method, url, body, headers, encode_chunked)\n",
      "  File \"/Library/Frameworks/Python.framework/Versions/3.7/lib/python3.7/http/client.py\", line 1290, in _send_request\n",
      "    self.endheaders(body, encode_chunked=encode_chunked)\n",
      "  File \"/Library/Frameworks/Python.framework/Versions/3.7/lib/python3.7/http/client.py\", line 1239, in endheaders\n",
      "    self._send_output(message_body, encode_chunked=encode_chunked)\n",
      "  File \"/Library/Frameworks/Python.framework/Versions/3.7/lib/python3.7/http/client.py\", line 1026, in _send_output\n",
      "    self.send(msg)\n",
      "  File \"/Library/Frameworks/Python.framework/Versions/3.7/lib/python3.7/http/client.py\", line 966, in send\n",
      "    self.connect()\n",
      "  File \"/Library/Frameworks/Python.framework/Versions/3.7/lib/python3.7/site-packages/urllib3/connection.py\", line 184, in connect\n",
      "    conn = self._new_conn()\n",
      "  File \"/Library/Frameworks/Python.framework/Versions/3.7/lib/python3.7/site-packages/urllib3/connection.py\", line 169, in _new_conn\n",
      "    self, \"Failed to establish a new connection: %s\" % e\n",
      "urllib3.exceptions.NewConnectionError: <urllib3.connection.HTTPConnection object at 0x109a90350>: Failed to establish a new connection: [Errno 8] nodename nor servname provided, or not known\n",
      "\n",
      "During handling of the above exception, another exception occurred:\n",
      "\n",
      "Traceback (most recent call last):\n",
      "  File \"/Library/Frameworks/Python.framework/Versions/3.7/lib/python3.7/site-packages/requests/adapters.py\", line 449, in send\n",
      "    timeout=timeout\n",
      "  File \"/Library/Frameworks/Python.framework/Versions/3.7/lib/python3.7/site-packages/urllib3/connectionpool.py\", line 720, in urlopen\n",
      "    method, url, error=e, _pool=self, _stacktrace=sys.exc_info()[2]\n",
      "  File \"/Library/Frameworks/Python.framework/Versions/3.7/lib/python3.7/site-packages/urllib3/util/retry.py\", line 436, in increment\n",
      "    raise MaxRetryError(_pool, url, error or ResponseError(cause))\n",
      "urllib3.exceptions.MaxRetryError: HTTPConnectionPool(host='google.comhttp', port=80): Max retries exceeded with url: //www.google.com/setprefdomain?prefdom=RU&prev=http://www.google.ru/&sig=K_Eu2Pwe9Y3vVGHH_TzEukUOZKlHg%3D (Caused by NewConnectionError('<urllib3.connection.HTTPConnection object at 0x109a90350>: Failed to establish a new connection: [Errno 8] nodename nor servname provided, or not known'))\n",
      "\n",
      "During handling of the above exception, another exception occurred:\n",
      "\n",
      "Traceback (most recent call last):\n",
      "  File \"/Library/Frameworks/Python.framework/Versions/3.7/lib/python3.7/threading.py\", line 926, in _bootstrap_inner\n",
      "    self.run()\n",
      "  File \"/Library/Frameworks/Python.framework/Versions/3.7/lib/python3.7/threading.py\", line 870, in run\n",
      "    self._target(*self._args, **self._kwargs)\n",
      "  File \"<ipython-input-2-d3a6b0388dc3>\", line 296, in make_map\n",
      "    self.maps[url] = self.get_map_hrefs_only(url)\n",
      "  File \"<ipython-input-2-d3a6b0388dc3>\", line 250, in get_map_hrefs_only\n",
      "    page = self.get_page(url)\n",
      "  File \"<ipython-input-2-d3a6b0388dc3>\", line 30, in get_page\n",
      "    response = requests.get(url)\n",
      "  File \"/Library/Frameworks/Python.framework/Versions/3.7/lib/python3.7/site-packages/requests/api.py\", line 75, in get\n",
      "    return request('get', url, params=params, **kwargs)\n",
      "  File \"/Library/Frameworks/Python.framework/Versions/3.7/lib/python3.7/site-packages/requests/api.py\", line 60, in request\n",
      "    return session.request(method=method, url=url, **kwargs)\n",
      "  File \"/Library/Frameworks/Python.framework/Versions/3.7/lib/python3.7/site-packages/requests/sessions.py\", line 533, in request\n",
      "    resp = self.send(prep, **send_kwargs)\n",
      "  File \"/Library/Frameworks/Python.framework/Versions/3.7/lib/python3.7/site-packages/requests/sessions.py\", line 646, in send\n",
      "    r = adapter.send(request, **kwargs)\n",
      "  File \"/Library/Frameworks/Python.framework/Versions/3.7/lib/python3.7/site-packages/requests/adapters.py\", line 516, in send\n",
      "    raise ConnectionError(e, request=request)\n",
      "requests.exceptions.ConnectionError: HTTPConnectionPool(host='google.comhttp', port=80): Max retries exceeded with url: //www.google.com/setprefdomain?prefdom=RU&prev=http://www.google.ru/&sig=K_Eu2Pwe9Y3vVGHH_TzEukUOZKlHg%3D (Caused by NewConnectionError('<urllib3.connection.HTTPConnection object at 0x109a90350>: Failed to establish a new connection: [Errno 8] nodename nor servname provided, or not known'))\n",
      "\n"
     ]
    },
    {
     "name": "stdout",
     "output_type": "stream",
     "text": [
      "\n",
      "CPU times: user 31.9 s, sys: 350 ms, total: 32.3 s\n",
      "Wall time: 1min 54s\n"
     ]
    }
   ],
   "source": [
    "%%time \n",
    "google.recursion()"
   ]
  },
  {
   "cell_type": "code",
   "execution_count": 19,
   "metadata": {},
   "outputs": [
    {
     "data": {
      "text/plain": [
       "438"
      ]
     },
     "execution_count": 19,
     "metadata": {},
     "output_type": "execute_result"
    }
   ],
   "source": [
    "google.url_number()"
   ]
  },
  {
   "cell_type": "code",
   "execution_count": 20,
   "metadata": {},
   "outputs": [
    {
     "data": {
      "application/vnd.jupyter.widget-view+json": {
       "model_id": "4dd7da8886234acf8f7d1452662a97b2",
       "version_major": 2,
       "version_minor": 0
      },
      "text/plain": [
       "HBox(children=(FloatProgress(value=0.0, max=1.0), HTML(value='')))"
      ]
     },
     "metadata": {},
     "output_type": "display_data"
    },
    {
     "name": "stdout",
     "output_type": "stream",
     "text": [
      "\n",
      "CPU times: user 38.9 s, sys: 576 ms, total: 39.5 s\n",
      "Wall time: 1min 8s\n"
     ]
    }
   ],
   "source": [
    "%%time \n",
    "ya.recursion()"
   ]
  },
  {
   "cell_type": "code",
   "execution_count": 21,
   "metadata": {},
   "outputs": [
    {
     "data": {
      "text/plain": [
       "3660"
      ]
     },
     "execution_count": 21,
     "metadata": {},
     "output_type": "execute_result"
    }
   ],
   "source": [
    "ya.url_number()"
   ]
  },
  {
   "cell_type": "code",
   "execution_count": 25,
   "metadata": {},
   "outputs": [
    {
     "data": {
      "application/vnd.jupyter.widget-view+json": {
       "model_id": "33f8f435525f4ce28663dd5dee26da5e",
       "version_major": 2,
       "version_minor": 0
      },
      "text/plain": [
       "HBox(children=(FloatProgress(value=0.0, max=2.0), HTML(value='')))"
      ]
     },
     "metadata": {},
     "output_type": "display_data"
    },
    {
     "name": "stdout",
     "output_type": "stream",
     "text": [
      "\n",
      "CPU times: user 2.79 s, sys: 396 ms, total: 3.19 s\n",
      "Wall time: 3min 13s\n"
     ]
    }
   ],
   "source": [
    "%%time \n",
    "crawler.recursion(2)"
   ]
  },
  {
   "cell_type": "code",
   "execution_count": 26,
   "metadata": {},
   "outputs": [
    {
     "data": {
      "text/plain": [
       "250"
      ]
     },
     "execution_count": 26,
     "metadata": {},
     "output_type": "execute_result"
    }
   ],
   "source": [
    "crawler.url_number()"
   ]
  },
  {
   "cell_type": "markdown",
   "metadata": {},
   "source": [
    "**Сохраним результаты**"
   ]
  },
  {
   "cell_type": "code",
   "execution_count": 27,
   "metadata": {},
   "outputs": [],
   "source": [
    "import json\n",
    "with open('stackoverflow.json', 'w', encoding='utf-8') as f:\n",
    "    json.dump(sof.maps, f, ensure_ascii=False)\n",
    "with open('yandex.json', 'w', encoding='utf-8') as f:\n",
    "    json.dump(ya.maps, f, ensure_ascii=False)\n",
    "with open('google.json', 'w', encoding='utf-8') as f:\n",
    "    json.dump(google.maps, f, ensure_ascii=False)\n",
    "with open('vk.json', 'w', encoding='utf-8') as f:\n",
    "    json.dump(vk.maps, f, ensure_ascii=False)\n",
    "with open('crawler.json', 'w', encoding='utf-8') as f:\n",
    "    json.dump(crawler.maps, f, ensure_ascii=False)"
   ]
  },
  {
   "cell_type": "code",
   "execution_count": null,
   "metadata": {},
   "outputs": [],
   "source": []
  }
 ],
 "metadata": {
  "kernelspec": {
   "display_name": "Python 3",
   "language": "python",
   "name": "python3"
  },
  "language_info": {
   "codemirror_mode": {
    "name": "ipython",
    "version": 3
   },
   "file_extension": ".py",
   "mimetype": "text/x-python",
   "name": "python",
   "nbconvert_exporter": "python",
   "pygments_lexer": "ipython3",
   "version": "3.7.4"
  }
 },
 "nbformat": 4,
 "nbformat_minor": 2
}
